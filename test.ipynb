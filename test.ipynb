import pandas as pd
import boto3
import numpy as np


df = pd.read_csv(input_file, on_bad_lines='skip')  


