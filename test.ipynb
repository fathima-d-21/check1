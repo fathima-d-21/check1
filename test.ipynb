import pandas as pd
import boto3
import numpy as np



